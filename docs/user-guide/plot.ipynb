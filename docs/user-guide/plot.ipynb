{
 "cells": [
  {
   "cell_type": "markdown",
   "id": "d228c316-3700-44b4-b457-218454da891d",
   "metadata": {},
   "source": [
    "# Plot"
   ]
  },
  {
   "cell_type": "code",
   "execution_count": null,
   "id": "710d60a6-0166-44b5-8460-0e46eff525fa",
   "metadata": {},
   "outputs": [],
   "source": [
    "import matplotgl.pyplot as plt\n",
    "import numpy as np"
   ]
  },
  {
   "cell_type": "code",
   "execution_count": null,
   "id": "0bcb7406-4eb8-45af-971e-36c7af397de4",
   "metadata": {},
   "outputs": [],
   "source": [
    "fig, ax = plt.subplots()\n",
    "\n",
    "x = np.arange(50.)\n",
    "y = np.sin(0.2 * x)\n",
    "\n",
    "ax.plot(x, y, lw=2)\n",
    "ax.plot(x, 0.5 * y, lw=2)\n",
    "ax.set_xlabel('Time (seconds)')\n",
    "ax.set_ylabel('Amplitude (cm)')\n",
    "\n",
    "fig"
   ]
  },
  {
   "cell_type": "code",
   "execution_count": null,
   "id": "5c0de3de-4ce7-4882-9c0d-db6cb189bce0",
   "metadata": {},
   "outputs": [],
   "source": [
    "fig, ax = plt.subplots()\n",
    "\n",
    "ax.plot(x, y, '-o', lw=2)\n",
    "ax.set_xlabel('Time (seconds)')\n",
    "ax.set_ylabel('Amplitude (cm)')\n",
    "\n",
    "fig"
   ]
  }
 ],
 "metadata": {
  "kernelspec": {
   "display_name": "Python 3 (ipykernel)",
   "language": "python",
   "name": "python3"
  },
  "language_info": {
   "codemirror_mode": {
    "name": "ipython",
    "version": 3
   },
   "file_extension": ".py",
   "mimetype": "text/x-python",
   "name": "python",
   "nbconvert_exporter": "python",
   "pygments_lexer": "ipython3",
   "version": "3.12.7"
  }
 },
 "nbformat": 4,
 "nbformat_minor": 5
}
