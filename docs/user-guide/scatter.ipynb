{
 "cells": [
  {
   "cell_type": "markdown",
   "id": "935f17d3-eae3-41e5-8258-8165cda406bb",
   "metadata": {},
   "source": [
    "# Scatter"
   ]
  },
  {
   "cell_type": "code",
   "execution_count": null,
   "id": "9f36776c-0c6b-4d3b-8d76-86961aa11d16",
   "metadata": {},
   "outputs": [],
   "source": [
    "import matplotgl.pyplot as plt\n",
    "import numpy as np"
   ]
  },
  {
   "cell_type": "code",
   "execution_count": null,
   "id": "05d54f24-7298-4ec3-befd-85ebaff9d1a6",
   "metadata": {},
   "outputs": [],
   "source": [
    "fig, ax = plt.subplots()\n",
    "\n",
    "N = 1000\n",
    "x = np.random.normal(size=N)\n",
    "y = np.random.normal(size=N)\n",
    "\n",
    "ax.scatter(x, y, s=6)\n",
    "\n",
    "fig"
   ]
  }
 ],
 "metadata": {
  "kernelspec": {
   "display_name": "Python 3 (ipykernel)",
   "language": "python",
   "name": "python3"
  },
  "language_info": {
   "codemirror_mode": {
    "name": "ipython",
    "version": 3
   },
   "file_extension": ".py",
   "mimetype": "text/x-python",
   "name": "python",
   "nbconvert_exporter": "python",
   "pygments_lexer": "ipython3",
   "version": "3.12.7"
  }
 },
 "nbformat": 4,
 "nbformat_minor": 5
}
