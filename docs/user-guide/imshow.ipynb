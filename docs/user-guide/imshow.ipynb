{
 "cells": [
  {
   "cell_type": "markdown",
   "id": "394c0bcc-4177-4083-abbb-9f829ab60a01",
   "metadata": {},
   "source": [
    "# Imshow"
   ]
  },
  {
   "cell_type": "code",
   "execution_count": null,
   "id": "7b97da73-c403-48e6-a9a4-d86b8452eca2",
   "metadata": {},
   "outputs": [],
   "source": [
    "import matplotgl.pyplot as plt\n",
    "import numpy as np"
   ]
  },
  {
   "cell_type": "code",
   "execution_count": null,
   "id": "650ad4ba-b117-4295-a4d0-55a3df249b1c",
   "metadata": {},
   "outputs": [],
   "source": [
    "fig, ax = plt.subplots()\n",
    "\n",
    "a = np.random.random((200, 300))\n",
    "\n",
    "ax.imshow(a, extent=[10, 50, 200, 500])\n",
    "\n",
    "fig"
   ]
  }
 ],
 "metadata": {
  "kernelspec": {
   "display_name": "Python 3 (ipykernel)",
   "language": "python",
   "name": "python3"
  },
  "language_info": {
   "codemirror_mode": {
    "name": "ipython",
    "version": 3
   },
   "file_extension": ".py",
   "mimetype": "text/x-python",
   "name": "python",
   "nbconvert_exporter": "python",
   "pygments_lexer": "ipython3",
   "version": "3.12.7"
  }
 },
 "nbformat": 4,
 "nbformat_minor": 5
}
